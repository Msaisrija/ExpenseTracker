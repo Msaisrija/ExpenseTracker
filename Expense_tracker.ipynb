{
 "cells": [
  {
   "cell_type": "code",
   "execution_count": 5,
   "id": "4a66c2b0-b75f-4f52-930b-dcb2f6fcac90",
   "metadata": {},
   "outputs": [
    {
     "name": "stdout",
     "output_type": "stream",
     "text": [
      "\n",
      "Menu:\n",
      "1. Add an expense\n",
      "2. View summary\n",
      "3. Exit\n"
     ]
    },
    {
     "name": "stdin",
     "output_type": "stream",
     "text": [
      "Enter a number:  1\n",
      "Enter the name for this expense:  Food\n",
      "Enter the amount:  200\n",
      "Enter the category:  Food\n"
     ]
    },
    {
     "name": "stdout",
     "output_type": "stream",
     "text": [
      "Added expense - Name: Food, Category: Food, Amount: 200.0\n",
      "\n",
      "Menu:\n",
      "1. Add an expense\n",
      "2. View summary\n",
      "3. Exit\n"
     ]
    },
    {
     "name": "stdin",
     "output_type": "stream",
     "text": [
      "Enter a number:  1\n",
      "Enter the name for this expense:  Travel\n",
      "Enter the amount:  500\n",
      "Enter the category:  Travel\n"
     ]
    },
    {
     "name": "stdout",
     "output_type": "stream",
     "text": [
      "Added expense - Name: Travel, Category: Travel, Amount: 500.0\n",
      "\n",
      "Menu:\n",
      "1. Add an expense\n",
      "2. View summary\n",
      "3. Exit\n"
     ]
    },
    {
     "name": "stdin",
     "output_type": "stream",
     "text": [
      "Enter a number:  1\n",
      "Enter the name for this expense:  Food\n",
      "Enter the amount:  300\n",
      "Enter the category:  Food\n"
     ]
    },
    {
     "name": "stdout",
     "output_type": "stream",
     "text": [
      "Added expense - Name: Food, Category: Food, Amount: 300.0\n",
      "\n",
      "Menu:\n",
      "1. Add an expense\n",
      "2. View summary\n",
      "3. Exit\n"
     ]
    },
    {
     "name": "stdin",
     "output_type": "stream",
     "text": [
      "Enter a number:  1\n",
      "Enter the name for this expense:  Travel\n",
      "Enter the amount:  200\n",
      "Enter the category:  Travel\n"
     ]
    },
    {
     "name": "stdout",
     "output_type": "stream",
     "text": [
      "Added expense - Name: Travel, Category: Travel, Amount: 200.0\n",
      "\n",
      "Menu:\n",
      "1. Add an expense\n",
      "2. View summary\n",
      "3. Exit\n"
     ]
    },
    {
     "name": "stdin",
     "output_type": "stream",
     "text": [
      "Enter a number:  1\n",
      "Enter the name for this expense:  Shopping\n",
      "Enter the amount:  1000\n",
      "Enter the category:  Shopping\n"
     ]
    },
    {
     "name": "stdout",
     "output_type": "stream",
     "text": [
      "Added expense - Name: Shopping, Category: Shopping, Amount: 1000.0\n",
      "\n",
      "Menu:\n",
      "1. Add an expense\n",
      "2. View summary\n",
      "3. Exit\n"
     ]
    },
    {
     "name": "stdin",
     "output_type": "stream",
     "text": [
      "Enter a number:  2\n"
     ]
    },
    {
     "name": "stdout",
     "output_type": "stream",
     "text": [
      "\n",
      "Expense Summary by Category:\n",
      "Travel: 700.0\n",
      "Food: 500.0\n",
      "Shopping: 1000.0\n",
      "\n",
      "Menu:\n",
      "1. Add an expense\n",
      "2. View summary\n",
      "3. Exit\n"
     ]
    },
    {
     "name": "stdin",
     "output_type": "stream",
     "text": [
      "Enter a number:  3\n"
     ]
    },
    {
     "name": "stdout",
     "output_type": "stream",
     "text": [
      "Exiting the Expense Tracker. Goodbye!\n"
     ]
    }
   ],
   "source": [
    "def expense_tracker():\n",
    "    expense_list = []\n",
    "    category = set()\n",
    " # Function to add an expense entry\n",
    "    def expenses():\n",
    "        name = input(\"Enter the name for this expense: \")\n",
    "         # Get the amount of the expense from the user and convert it to a float\n",
    "        amount = float(input(\"Enter the amount: \"))\n",
    "          # Get the category of the expense from the user\n",
    "        categories = input(\"Enter the category: \")\n",
    "          # Add the category to the set of categories (no duplicates allowed)\n",
    "        category.add(categories)\n",
    "         # Append the expense details (name, amount, category) as a tuple to the expense list\n",
    "        expense_list.append((name, amount, categories))\n",
    "          # Display the added expense\n",
    "        print(f\"Added expense - Name: {name}, Category: {categories}, Amount: {amount}\")\n",
    "\n",
    "    def summary():\n",
    "        # Summarizing expenses by category\n",
    "        summaries = {category1: sum(amount for _, amount, cat in expense_list if cat == category1) for category1 in category}\n",
    "        print(\"\\nExpense Summary by Category:\")\n",
    "        for cat, total in summaries.items():\n",
    "              # For each category, display the total amount\n",
    "            print(f\"{cat}: {total}\")\n",
    "     # Main loop to repeatedly prompt the user for actions\n",
    "    while True:\n",
    "        print(\"\\nMenu:\")\n",
    "        print(\"1. Add an expense\")\n",
    "        print(\"2. View summary\")\n",
    "        print(\"3. Exit\")\n",
    "        \n",
    "        option = int(input(\"Enter a number: \"))\n",
    "        \n",
    "        if option == 1:\n",
    "            expenses()\n",
    "        elif option == 2:\n",
    "            summary()\n",
    "        elif option == 3:\n",
    "            print(\"Exiting the Expense Tracker. Goodbye!\")\n",
    "            break\n",
    "        else:\n",
    "            print(\"Invalid choice! Please enter a valid option.\\n\")\n",
    "\n",
    "expense_tracker()\n"
   ]
  },
  {
   "cell_type": "code",
   "execution_count": null,
   "id": "5d14aaa7-145e-4f5e-9185-4e6d283f425a",
   "metadata": {},
   "outputs": [],
   "source": []
  }
 ],
 "metadata": {
  "kernelspec": {
   "display_name": "Python 3 (ipykernel)",
   "language": "python",
   "name": "python3"
  },
  "language_info": {
   "codemirror_mode": {
    "name": "ipython",
    "version": 3
   },
   "file_extension": ".py",
   "mimetype": "text/x-python",
   "name": "python",
   "nbconvert_exporter": "python",
   "pygments_lexer": "ipython3",
   "version": "3.12.4"
  }
 },
 "nbformat": 4,
 "nbformat_minor": 5
}
